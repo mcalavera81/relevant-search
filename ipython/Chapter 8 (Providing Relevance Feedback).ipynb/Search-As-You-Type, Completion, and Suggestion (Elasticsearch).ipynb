{
 "cells": [
  {
   "cell_type": "markdown",
   "metadata": {},
   "source": [
    "# Setup"
   ]
  },
  {
   "cell_type": "code",
   "execution_count": 43,
   "metadata": {},
   "outputs": [],
   "source": [
    "#import\n",
    "from elasticsearch import Elasticsearch\n",
    "from elasticsearch import helpers\n",
    "import pickle"
   ]
  },
  {
   "cell_type": "code",
   "execution_count": 44,
   "metadata": {
    "scrolled": true
   },
   "outputs": [],
   "source": [
    "#initialize\n",
    "es = Elasticsearch()"
   ]
  },
  {
   "cell_type": "code",
   "execution_count": 45,
   "metadata": {},
   "outputs": [],
   "source": [
    "movies=pickle.load(open(\"../movies.p\",\"rb\"))"
   ]
  },
  {
   "cell_type": "markdown",
   "metadata": {},
   "source": [
    "# Search Completion"
   ]
  },
  {
   "cell_type": "markdown",
   "metadata": {},
   "source": [
    "## Completions from the Documents Being Searched"
   ]
  },
  {
   "cell_type": "code",
   "execution_count": 46,
   "metadata": {},
   "outputs": [
    {
     "data": {
      "text/plain": [
       "{u'acknowledged': True, u'index': u'tmdb', u'shards_acknowledged': True}"
      ]
     },
     "execution_count": 46,
     "metadata": {},
     "output_type": "execute_result"
    }
   ],
   "source": [
    "try:\n",
    "    es.indices.delete(index=\"tmdb\")\n",
    "except:\n",
    "    pass\n",
    "\n",
    "#create index here?\n",
    "# genres.name needs to be keyword tokenized so that 'science fiction' doesn't get split on white space\n",
    "# maybe create a text field with title and overview to search against\n",
    "body = {\n",
    "    \"settings\": {\n",
    "    \"analysis\": {\n",
    "      \"filter\": {\n",
    "        \"shingle_2\": {\n",
    "          \"type\":\"shingle\",\n",
    "          \"output_unigrams\":\"false\"}},\n",
    "      \"analyzer\": {\n",
    "        \"completion_analyzer\": {\n",
    "          \"tokenizer\":  \"standard\",\n",
    "          \"filter\": [\n",
    "            \"lowercase\", \n",
    "            \"shingle_2\"]}}}},\n",
    "    \"mappings\": {\n",
    "        \"properties\": {\n",
    "          \"genres\": {\n",
    "            \"properties\": {\n",
    "              \"name\": { \n",
    "                \"type\": \"text\",\n",
    "                \"index\": \"false\"}}},\n",
    "          \"title\": {\n",
    "            \"type\": \"text\",\n",
    "            \"analyzer\": \"english\",\n",
    "            \"copy_to\":[\"completion\"]},\n",
    "          \"completion\": {\n",
    "            \"type\": \"text\",\n",
    "            \"fielddata\": \"true\",\n",
    "            \"analyzer\": \"completion_analyzer\"}}}}\n",
    "es.indices.create(index=\"tmdb\",settings=body['settings'],mappings=body['mappings'])"
   ]
  },
  {
   "cell_type": "code",
   "execution_count": 47,
   "metadata": {},
   "outputs": [],
   "source": [
    "#doc indexer\n",
    "def format_doc(doc):\n",
    "    action = {\n",
    "        \"_index\": \"tmdb\",\n",
    "        \"_id\": doc['id'],\n",
    "        \"_source\": doc\n",
    "        }\n",
    "    return action\n",
    "\n",
    "def index_movies():\n",
    "    actions = (format_doc(doc) for doc in movies)\n",
    "    results = [details for success,details in helpers.streaming_bulk(es, actions) if not success]\n",
    "    return results"
   ]
  },
  {
   "cell_type": "code",
   "execution_count": 48,
   "metadata": {},
   "outputs": [],
   "source": [
    "results = index_movies()"
   ]
  },
  {
   "cell_type": "code",
   "execution_count": 96,
   "metadata": {},
   "outputs": [
    {
     "name": "stdout",
     "output_type": "stream",
     "text": [
      "prefix in\n",
      "{'query': {'match_phrase_prefix': {'title': {'query': 'lost in'}}}, 'aggs': {'completion': {'terms': {'field': 'completion', 'include': 'in.*', 'size': 10000}}}, '_source': ['title']}\n"
     ]
    },
    {
     "name": "stderr",
     "output_type": "stream",
     "text": [
      "/Volumes/Workspace/Development/relevant-search-book/ipython/venv/lib/python2.7/site-packages/ipykernel_launcher.py:42: DeprecationWarning: The 'body' parameter is deprecated for the 'search' API and will be removed in a future version. Instead use API parameters directly. See https://github.com/elastic/elasticsearch-py/issues/1698 for more information\n"
     ]
    },
    {
     "data": {
      "text/plain": [
       "{u'_shards': {u'failed': 0, u'skipped': 0, u'successful': 1, u'total': 1},\n",
       " u'aggregations': {u'completion': {u'buckets': [{u'doc_count': 1,\n",
       "     u'key': u'in new'}],\n",
       "   u'doc_count_error_upper_bound': 0,\n",
       "   u'sum_other_doc_count': 0}},\n",
       " u'hits': {u'hits': [{u'_id': u'85',\n",
       "    u'_index': u'tmdb',\n",
       "    u'_score': 4.2908716,\n",
       "    u'_source': {u'title': u'Raiders of the Lost Ark'},\n",
       "    u'_type': u'_doc'},\n",
       "   {u'_id': u'330',\n",
       "    u'_ignored': [u'overview.keyword'],\n",
       "    u'_index': u'tmdb',\n",
       "    u'_score': 3.7148085,\n",
       "    u'_source': {u'title': u'The Lost World: Jurassic Park'},\n",
       "    u'_type': u'_doc'},\n",
       "   {u'_id': u'772',\n",
       "    u'_ignored': [u'overview.keyword'],\n",
       "    u'_index': u'tmdb',\n",
       "    u'_score': 2.9284902,\n",
       "    u'_source': {u'title': u'Home Alone 2: Lost In New York'},\n",
       "    u'_type': u'_doc'}],\n",
       "  u'max_score': 4.2908716,\n",
       "  u'total': {u'relation': u'eq', u'value': 3}},\n",
       " u'timed_out': False,\n",
       " u'took': 1}"
      ]
     },
     "execution_count": 96,
     "metadata": {},
     "output_type": "execute_result"
    }
   ],
   "source": [
    "def get_completion_query(input_string):\n",
    "    \n",
    "    query_body = {\n",
    "    \"_source\": [\"title\"],\n",
    "    \"query\" : {\n",
    "        \"match_phrase_prefix\" : {\n",
    "            \"title\" : {\n",
    "                \"query\" : input_string}}}}\n",
    "\n",
    "    #if the input string is too short, then don't attempt completion\n",
    "    if len(input_string) < 2:\n",
    "        return query_body\n",
    "    \n",
    "    #get the last uncompleted string\n",
    "    input_string = input_string.lstrip()\n",
    "    last_space_index = input_string.rfind(' ')\n",
    "    prefix = input_string[last_space_index+1:]\n",
    "    \n",
    "    #if the prefix is 1 or less chars then include the previous word in the prefix\n",
    "    if len(prefix) <= 1:\n",
    "        previous_space_index = input_string[:last_space_index].rfind(' ')\n",
    "        prefix = input_string[previous_space_index+1:]\n",
    "        \n",
    "    print 'prefix %s' % prefix\n",
    "    query_body['aggs'] = {\n",
    "        'completion': {\n",
    "            'terms': {\n",
    "                'field':'completion',\n",
    "                 \"size\": 10000,\n",
    "                'include': '%s.*' % prefix\n",
    "                #'include': '.*'\n",
    "            }\n",
    "        }\n",
    "    }\n",
    "    return query_body\n",
    "    \n",
    "\n",
    "\n",
    "\n",
    "query_body = get_completion_query(\"lost in\")\n",
    "print str(query_body)\n",
    "es.search(index=\"tmdb\",body=query_body)"
   ]
  },
  {
   "cell_type": "markdown",
   "metadata": {},
   "source": [
    "## Fast Completions Via Specialized Search Indices"
   ]
  },
  {
   "cell_type": "code",
   "execution_count": 139,
   "metadata": {},
   "outputs": [
    {
     "name": "stderr",
     "output_type": "stream",
     "text": [
      "/Volumes/Workspace/Development/relevant-search-book/ipython/venv/lib/python2.7/site-packages/ipykernel_launcher.py:2: DeprecationWarning: Using positional arguments for APIs is deprecated and will be disabled in 8.0.0. Instead use only keyword arguments for all APIs. See https://github.com/elastic/elasticsearch-py/issues/1698 for more information\n",
      "  \n"
     ]
    },
    {
     "data": {
      "text/plain": [
       "{u'acknowledged': True, u'index': u'tmdb', u'shards_acknowledged': True}"
      ]
     },
     "execution_count": 139,
     "metadata": {},
     "output_type": "execute_result"
    }
   ],
   "source": [
    "try:\n",
    "    es.indices.delete(\"tmdb\")\n",
    "except:\n",
    "    pass\n",
    "\n",
    "#create index here?\n",
    "# genres.name needs to be keyword tokenized so that 'science fiction' doesn't get split on white space\n",
    "# maybe create a text field with title and overview to search against\n",
    "body = {\n",
    "\"settings\": {\n",
    "    \"analysis\": {\n",
    "        \"analyzer\": {\n",
    "          \"my_analyzer\": {\n",
    "            \"tokenizer\": \"my_tokenizer\",\n",
    "            \"filter\": [\"lowercase\"]\n",
    "          }\n",
    "        },\n",
    "        \"tokenizer\": {\n",
    "          \"my_tokenizer\": {\n",
    "            \"type\": \"path_hierarchy\",\n",
    "            \"delimiter\": \" \",\n",
    "            \"reverse\": \"true\"\n",
    "          }\n",
    "        }\n",
    "    }\n",
    "},\n",
    "    \"mappings\": {\n",
    "        \"properties\": {\n",
    "          \"genres\": {\n",
    "            \"properties\": {\n",
    "              \"name\": { \n",
    "                \"type\": \"text\",\n",
    "                \"index\": \"false\"}}},\n",
    "          \"title\": {\n",
    "            \"type\": \"text\",\n",
    "            \"analyzer\": \"english\"},\n",
    "          \"completion\": {\n",
    "            \"type\": \"completion\",\n",
    "              \"analyzer\":\"my_analyzer\"\n",
    "          }}}}\n",
    "es.indices.create(index=\"tmdb\",mappings=body['mappings'],settings=body['settings'])"
   ]
  },
  {
   "cell_type": "code",
   "execution_count": 140,
   "metadata": {},
   "outputs": [],
   "source": [
    "#doc indexer\n",
    "def format_doc(doc):\n",
    "    doc[\"completion\"] = {\n",
    "        \"input\": [doc[\"title\"]],\n",
    "        \"weight\": int(doc[\"popularity\"]*100)\n",
    "    }\n",
    "    action = {\n",
    "        \"_index\": \"tmdb\",\n",
    "        \"_id\": doc['id'],\n",
    "        \"_source\": doc\n",
    "        }\n",
    "    return action\n",
    "\n",
    "def index_movies():\n",
    "    actions = (format_doc(doc) for doc in movies)\n",
    "    results = [details for success,details in helpers.streaming_bulk(es, actions) if not success]\n",
    "    return results"
   ]
  },
  {
   "cell_type": "code",
   "execution_count": 141,
   "metadata": {},
   "outputs": [],
   "source": [
    "results = index_movies()"
   ]
  },
  {
   "cell_type": "code",
   "execution_count": 142,
   "metadata": {
    "scrolled": true
   },
   "outputs": [
    {
     "name": "stderr",
     "output_type": "stream",
     "text": [
      "/Volumes/Workspace/Development/relevant-search-book/ipython/venv/lib/python2.7/site-packages/ipykernel_launcher.py:13: DeprecationWarning: The 'body' parameter is deprecated for the 'search' API and will be removed in a future version. Instead use API parameters directly. See https://github.com/elastic/elasticsearch-py/issues/1698 for more information\n",
      "  del sys.path[0]\n"
     ]
    },
    {
     "data": {
      "text/plain": [
       "{u'_shards': {u'failed': 0, u'skipped': 0, u'successful': 1, u'total': 1},\n",
       " u'hits': {u'hits': [],\n",
       "  u'max_score': None,\n",
       "  u'total': {u'relation': u'eq', u'value': 0}},\n",
       " u'suggest': {u'my-entity-suggest': [{u'length': 3,\n",
       "    u'offset': 0,\n",
       "    u'options': [{u'_id': u'72190',\n",
       "      u'_ignored': [u'overview.keyword'],\n",
       "      u'_index': u'tmdb',\n",
       "      u'_score': 461.0,\n",
       "      u'_source': {u'adult': False,\n",
       "       u'backdrop_path': u'/xMOQVYLeIKBXenJ9KMeasj7S64y.jpg',\n",
       "       u'belongs_to_collection': None,\n",
       "       u'budget': 200000000,\n",
       "       u'completion': {u'input': [u'World War Z'], u'weight': 461},\n",
       "       u'genres': [{u'id': 28, u'name': u'Action'},\n",
       "        {u'id': 18, u'name': u'Drama'},\n",
       "        {u'id': 27, u'name': u'Horror'},\n",
       "        {u'id': 878, u'name': u'Science Fiction'},\n",
       "        {u'id': 53, u'name': u'Thriller'}],\n",
       "       u'homepage': u'http://www.worldwarzmovie.com',\n",
       "       u'id': 72190,\n",
       "       u'imdb_id': u'tt0816711',\n",
       "       u'original_language': u'en',\n",
       "       u'original_title': u'World War Z',\n",
       "       u'overview': u'Life for former United Nations investigator Gerry Lane and his family seems content. Suddenly, the world is plagued by a mysterious infection turning whole human populations into rampaging mindless zombies. After barely escaping the chaos, Lane is persuaded to go on a mission to investigate this disease. What follows is a perilous trek around the world where Lane must brave horrific dangers and long odds to find answers before human civilization falls.',\n",
       "       u'popularity': 4.61923527581039,\n",
       "       u'poster_path': u'/gAt1PrsrFY1nX6UzebeiHP8njE9.jpg',\n",
       "       u'production_companies': [{u'id': 3281, u'name': u'GK Films'},\n",
       "        {u'id': 4, u'name': u'Paramount Pictures'},\n",
       "        {u'id': 6277, u'name': u'Skydance Productions'},\n",
       "        {u'id': 9169, u'name': u'Hemisphere Media Capital'},\n",
       "        {u'id': 23644, u'name': u'2DUX\\xb2'},\n",
       "        {u'id': 11956, u'name': u'Apparatus Productions'},\n",
       "        {u'id': 19108, u'name': u'Latina Pictures'}],\n",
       "       u'production_countries': [{u'iso_3166_1': u'MT', u'name': u'Malta'},\n",
       "        {u'iso_3166_1': u'US', u'name': u'United States of America'}],\n",
       "       u'release_date': u'2013-06-21',\n",
       "       u'revenue': 531865000,\n",
       "       u'runtime': 116,\n",
       "       u'spoken_languages': [{u'iso_639_1': u'en', u'name': u'English'}],\n",
       "       u'status': u'Released',\n",
       "       u'tagline': u'Remember Philly!',\n",
       "       u'title': u'World War Z',\n",
       "       u'video': False,\n",
       "       u'vote_average': 6.8,\n",
       "       u'vote_count': 1969},\n",
       "      u'_type': u'_doc',\n",
       "      u'text': u'World War Z'},\n",
       "     {u'_id': u'11',\n",
       "      u'_ignored': [u'overview.keyword'],\n",
       "      u'_index': u'tmdb',\n",
       "      u'_score': 312.0,\n",
       "      u'_source': {u'adult': False,\n",
       "       u'backdrop_path': u'/4iJfYYoQzZcONB9hNzg0J0wWyPH.jpg',\n",
       "       u'belongs_to_collection': {u'backdrop_path': u'/sGxcMvC6mfCzEir0c1tldsPhZEF.jpg',\n",
       "        u'id': 10,\n",
       "        u'name': u'Star Wars Collection',\n",
       "        u'poster_path': u'/ghd5zOQnDaDW1mxO7R5fXXpZMu.jpg'},\n",
       "       u'budget': 11000000,\n",
       "       u'completion': {u'input': [u'Star Wars: Episode IV - A New Hope'],\n",
       "        u'weight': 312},\n",
       "       u'genres': [{u'id': 28, u'name': u'Action'},\n",
       "        {u'id': 12, u'name': u'Adventure'},\n",
       "        {u'id': 878, u'name': u'Science Fiction'}],\n",
       "       u'homepage': u'http://www.starwars.com',\n",
       "       u'id': 11,\n",
       "       u'imdb_id': u'tt0076759',\n",
       "       u'original_language': u'en',\n",
       "       u'original_title': u'Star Wars: Episode IV - A New Hope',\n",
       "       u'overview': u'Princess Leia is captured and held hostage by the evil Imperial forces in their effort to take over the galactic Empire. Venturesome Luke Skywalker and dashing captain Han Solo team together with the loveable robot duo R2-D2 and C-3PO to rescue the beautiful princess and restore peace and justice in the Empire.',\n",
       "       u'popularity': 3.1210008139877,\n",
       "       u'poster_path': u'/tvSlBzAdRE29bZe5yYWrJ2ds137.jpg',\n",
       "       u'production_companies': [{u'id': 1, u'name': u'Lucasfilm'},\n",
       "        {u'id': 306, u'name': u'Twentieth Century Fox Film Corporation'}],\n",
       "       u'production_countries': [{u'iso_3166_1': u'US',\n",
       "         u'name': u'United States of America'}],\n",
       "       u'release_date': u'1977-05-25',\n",
       "       u'revenue': 775398007,\n",
       "       u'runtime': 121,\n",
       "       u'spoken_languages': [{u'iso_639_1': u'en', u'name': u'English'}],\n",
       "       u'status': u'Released',\n",
       "       u'tagline': u'A long time ago in a galaxy far, far away...',\n",
       "       u'title': u'Star Wars: Episode IV - A New Hope',\n",
       "       u'video': False,\n",
       "       u'vote_average': 7.7,\n",
       "       u'vote_count': 2362},\n",
       "      u'_type': u'_doc',\n",
       "      u'text': u'Star Wars: Episode IV - A New Hope'},\n",
       "     {u'_id': u'1893',\n",
       "      u'_ignored': [u'overview.keyword'],\n",
       "      u'_index': u'tmdb',\n",
       "      u'_score': 221.0,\n",
       "      u'_source': {u'adult': False,\n",
       "       u'backdrop_path': u'/rtG5TRrQXf11jlO9WqcYTq46jKa.jpg',\n",
       "       u'belongs_to_collection': {u'backdrop_path': u'/sGxcMvC6mfCzEir0c1tldsPhZEF.jpg',\n",
       "        u'id': 10,\n",
       "        u'name': u'Star Wars Collection',\n",
       "        u'poster_path': u'/ghd5zOQnDaDW1mxO7R5fXXpZMu.jpg'},\n",
       "       u'budget': 115000000,\n",
       "       u'completion': {u'input': [u'Star Wars: Episode I - The Phantom Menace'],\n",
       "        u'weight': 221},\n",
       "       u'genres': [{u'id': 28, u'name': u'Action'},\n",
       "        {u'id': 12, u'name': u'Adventure'},\n",
       "        {u'id': 878, u'name': u'Science Fiction'}],\n",
       "       u'homepage': u'',\n",
       "       u'id': 1893,\n",
       "       u'imdb_id': u'tt0120915',\n",
       "       u'original_language': u'en',\n",
       "       u'original_title': u'Star Wars: Episode I - The Phantom Menace',\n",
       "       u'overview': u'(32 Years Before Episode IV) Stranded on the desert planet Tatooine after rescuing young Queen Amidala from the impending invasion of Naboo, Jedi apprentice Obi-Wan Kenobi and his Jedi Master discover nine-year-old Anakin Skywalker, a young slave unusually strong in the Force.',\n",
       "       u'popularity': 2.21202613602185,\n",
       "       u'poster_path': u'/n8V09dDc02KsSN6Q4hC2BX6hN8X.jpg',\n",
       "       u'production_companies': [{u'id': 1, u'name': u'Lucasfilm'}],\n",
       "       u'production_countries': [{u'iso_3166_1': u'US',\n",
       "         u'name': u'United States of America'}],\n",
       "       u'release_date': u'1999-05-19',\n",
       "       u'revenue': 924317558,\n",
       "       u'runtime': 136,\n",
       "       u'spoken_languages': [{u'iso_639_1': u'en', u'name': u'English'}],\n",
       "       u'status': u'Released',\n",
       "       u'tagline': u'Every generation has a legend. Every journey has a first step. Every saga has a beginning.',\n",
       "       u'title': u'Star Wars: Episode I - The Phantom Menace',\n",
       "       u'video': False,\n",
       "       u'vote_average': 6.2,\n",
       "       u'vote_count': 1489},\n",
       "      u'_type': u'_doc',\n",
       "      u'text': u'Star Wars: Episode I - The Phantom Menace'},\n",
       "     {u'_id': u'1892',\n",
       "      u'_ignored': [u'overview.keyword'],\n",
       "      u'_index': u'tmdb',\n",
       "      u'_score': 187.0,\n",
       "      u'_source': {u'adult': False,\n",
       "       u'backdrop_path': u'/bvJOpyHYWACDusvQvXxKEHFNjce.jpg',\n",
       "       u'belongs_to_collection': {u'backdrop_path': u'/sGxcMvC6mfCzEir0c1tldsPhZEF.jpg',\n",
       "        u'id': 10,\n",
       "        u'name': u'Star Wars Collection',\n",
       "        u'poster_path': u'/ghd5zOQnDaDW1mxO7R5fXXpZMu.jpg'},\n",
       "       u'budget': 32350000,\n",
       "       u'completion': {u'input': [u'Star Wars: Episode VI - Return of the Jedi'],\n",
       "        u'weight': 187},\n",
       "       u'genres': [{u'id': 28, u'name': u'Action'},\n",
       "        {u'id': 12, u'name': u'Adventure'},\n",
       "        {u'id': 878, u'name': u'Science Fiction'}],\n",
       "       u'homepage': u'',\n",
       "       u'id': 1892,\n",
       "       u'imdb_id': u'tt0086190',\n",
       "       u'original_language': u'en',\n",
       "       u'original_title': u'Star Wars: Episode VI - Return of the Jedi',\n",
       "       u'overview': u\"As Rebel leaders map their strategy for an all-out attack on the Emperor's newer, bigger Death Star. Han Solo remains frozen in the cavernous desert fortress of Jabba the Hutt, the most loathsome outlaw in the universe, who is also keeping Princess Leia as a slave girl. Now a master of the Force, Luke Skywalker rescues his friends, but he cannot become a true Jedi Knight until he wages his own crucial battle against Darth Vader, who has sworn to win Luke over to the dark side of the Force.\",\n",
       "       u'popularity': 1.87358479445593,\n",
       "       u'poster_path': u'/jx5p0aHlbPXqe3AH9G15NvmWaqQ.jpg',\n",
       "       u'production_companies': [{u'id': 1, u'name': u'Lucasfilm'}],\n",
       "       u'production_countries': [{u'iso_3166_1': u'US',\n",
       "         u'name': u'United States of America'}],\n",
       "       u'release_date': u'1983-05-25',\n",
       "       u'revenue': 572700000,\n",
       "       u'runtime': 135,\n",
       "       u'spoken_languages': [{u'iso_639_1': u'en', u'name': u'English'}],\n",
       "       u'status': u'Released',\n",
       "       u'tagline': u'The Empire Falls...',\n",
       "       u'title': u'Star Wars: Episode VI - Return of the Jedi',\n",
       "       u'video': False,\n",
       "       u'vote_average': 7.6,\n",
       "       u'vote_count': 1740},\n",
       "      u'_type': u'_doc',\n",
       "      u'text': u'Star Wars: Episode VI - Return of the Jedi'},\n",
       "     {u'_id': u'1895',\n",
       "      u'_ignored': [u'overview.keyword'],\n",
       "      u'_index': u'tmdb',\n",
       "      u'_score': 164.0,\n",
       "      u'_source': {u'adult': False,\n",
       "       u'backdrop_path': u'/wUYTfFbfPiZC6Lcyt1nonr69ZmK.jpg',\n",
       "       u'belongs_to_collection': {u'backdrop_path': u'/sGxcMvC6mfCzEir0c1tldsPhZEF.jpg',\n",
       "        u'id': 10,\n",
       "        u'name': u'Star Wars Collection',\n",
       "        u'poster_path': u'/ghd5zOQnDaDW1mxO7R5fXXpZMu.jpg'},\n",
       "       u'budget': 113000000,\n",
       "       u'completion': {u'input': [u'Star Wars: Episode III - Revenge of the Sith'],\n",
       "        u'weight': 164},\n",
       "       u'genres': [{u'id': 28, u'name': u'Action'},\n",
       "        {u'id': 12, u'name': u'Adventure'},\n",
       "        {u'id': 878, u'name': u'Science Fiction'}],\n",
       "       u'homepage': u'http://www.starwars.com/movies/episode-iii/',\n",
       "       u'id': 1895,\n",
       "       u'imdb_id': u'tt0121766',\n",
       "       u'original_language': u'en',\n",
       "       u'original_title': u'Star Wars: Episode III - Revenge of the Sith',\n",
       "       u'overview': u'(19 Years before Episode IV) Three years after the onset of the Clone Wars, the Jedi Knights have been leading the clone army into a galaxy-wide war against the Separatists. Only by embracing the Dark Side can Anakin Skywalker end the war and -- He believes -- Save the woman he loves.',\n",
       "       u'popularity': 1.64078385856162,\n",
       "       u'poster_path': u'/tgr5Pdy7ehZYBqBkN2K7Q02xgOb.jpg',\n",
       "       u'production_companies': [{u'id': 1, u'name': u'Lucasfilm'}],\n",
       "       u'production_countries': [{u'iso_3166_1': u'US',\n",
       "         u'name': u'United States of America'}],\n",
       "       u'release_date': u'2005-05-19',\n",
       "       u'revenue': 850000000,\n",
       "       u'runtime': 140,\n",
       "       u'spoken_languages': [{u'iso_639_1': u'en', u'name': u'English'}],\n",
       "       u'status': u'Released',\n",
       "       u'tagline': u'The saga is complete.',\n",
       "       u'title': u'Star Wars: Episode III - Revenge of the Sith',\n",
       "       u'video': False,\n",
       "       u'vote_average': 6.8,\n",
       "       u'vote_count': 1319},\n",
       "      u'_type': u'_doc',\n",
       "      u'text': u'Star Wars: Episode III - Revenge of the Sith'}],\n",
       "    u'text': u'war'}]},\n",
       " u'timed_out': False,\n",
       " u'took': 1}"
      ]
     },
     "execution_count": 142,
     "metadata": {},
     "output_type": "execute_result"
    }
   ],
   "source": [
    "\n",
    "        \n",
    "text=\"war\"\n",
    "suggest_dictionary = {\"my-entity-suggest\" : {\n",
    "                      'text' : text,\n",
    "                      \"completion\" : {\n",
    "                          \"field\" : \"completion\"\n",
    "                      }\n",
    "                    }\n",
    "                  }\n",
    "query_dictionary = {'suggest' : suggest_dictionary}\n",
    "\n",
    "es.search(index=\"tmdb\",body=query_dictionary)"
   ]
  },
  {
   "cell_type": "markdown",
   "metadata": {},
   "source": [
    "# Post-Search Suggest"
   ]
  },
  {
   "cell_type": "code",
   "execution_count": 4,
   "metadata": {},
   "outputs": [
    {
     "data": {
      "text/plain": [
       "{u'acknowledged': True}"
      ]
     },
     "execution_count": 4,
     "metadata": {},
     "output_type": "execute_result"
    }
   ],
   "source": [
    "try:\n",
    "    es.indices.delete(\"tmdb\")\n",
    "except:\n",
    "    pass\n",
    "\n",
    "#create index here?\n",
    "# genres.name needs to be keyword tokenized so that 'science fiction' doesn't get split on white space\n",
    "# maybe create a text field with title and overview to search against\n",
    "body = {\n",
    "    \"mappings\": {\n",
    "      \"movie\": {\n",
    "        \"properties\": {\n",
    "          \"genres\": {\n",
    "            \"properties\": {\n",
    "              \"name\": { \n",
    "                \"type\": \"string\",\n",
    "                \"index\": \"not_analyzed\"}}},\n",
    "          \"title\": {\n",
    "            \"type\": \"string\",\n",
    "            \"analyzer\": \"english\",\n",
    "            \"copy_to\":[\"suggestion\"]},\n",
    "          \"suggestion\": {\n",
    "            \"type\": \"string\"}}}}}\n",
    "es.indices.create(\"tmdb\",body=body)"
   ]
  },
  {
   "cell_type": "code",
   "execution_count": 5,
   "metadata": {
    "collapsed": true
   },
   "outputs": [],
   "source": [
    "#doc indexer\n",
    "def format_doc(doc):\n",
    "    action = {\n",
    "        \"_index\": \"tmdb\",\n",
    "        \"_type\": \"movie\",\n",
    "        \"_id\": doc['id'],\n",
    "        \"_source\": doc\n",
    "        }\n",
    "    return action\n",
    "\n",
    "def index_movies():\n",
    "    actions = (format_doc(doc) for doc in movies)\n",
    "    results = [details for success,details in helpers.streaming_bulk(es, actions) if not success]\n",
    "    return results"
   ]
  },
  {
   "cell_type": "code",
   "execution_count": 6,
   "metadata": {
    "collapsed": true
   },
   "outputs": [],
   "source": [
    "results = index_movies()"
   ]
  },
  {
   "cell_type": "code",
   "execution_count": 7,
   "metadata": {},
   "outputs": [
    {
     "data": {
      "text/plain": [
       "{u'_shards': {u'failed': 0, u'successful': 5, u'total': 5},\n",
       " u'title_suggestion': [{u'length': 9,\n",
       "   u'offset': 0,\n",
       "   u'options': [],\n",
       "   u'text': u'star trec'}]}"
      ]
     },
     "execution_count": 7,
     "metadata": {},
     "output_type": "execute_result"
    }
   ],
   "source": [
    "suggest_body = { \"title_suggestion\": {\n",
    "    \"text\": \"star trec\",\n",
    "    \"phrase\": {\n",
    "        \"field\": \"suggestion\"}}}\n",
    "        \n",
    "es.suggest(index=\"tmdb\",body=suggest_body)"
   ]
  },
  {
   "cell_type": "code",
   "execution_count": 9,
   "metadata": {},
   "outputs": [
    {
     "data": {
      "text/plain": [
       "{u'_shards': {u'failed': 0, u'successful': 5, u'total': 5},\n",
       " u'hits': {u'hits': [{u'_id': u'13475',\n",
       "    u'_index': u'tmdb',\n",
       "    u'_score': 0.83896446,\n",
       "    u'_type': u'movie',\n",
       "    u'fields': {u'title': [u'Star Trek']}},\n",
       "   {u'_id': u'222935',\n",
       "    u'_index': u'tmdb',\n",
       "    u'_score': 0.68552226,\n",
       "    u'_type': u'movie',\n",
       "    u'fields': {u'title': [u'The Fault in Our Stars']}}],\n",
       "  u'max_score': 0.83896446,\n",
       "  u'total': 9},\n",
       " u'suggest': {u'title_completion': [{u'length': 9,\n",
       "    u'offset': 0,\n",
       "    u'options': [{u'score': 0.015584747, u'text': u'star trek'}],\n",
       "    u'text': u'star trec'}]},\n",
       " u'timed_out': False,\n",
       " u'took': 168}"
      ]
     },
     "execution_count": 9,
     "metadata": {},
     "output_type": "execute_result"
    }
   ],
   "source": [
    "# Works in Elasticsearch 1.5\n",
    "query_body = { \n",
    "  \"fields\": [\"title\"],\n",
    "  \"query\": {\n",
    "    \"match\": {\"title\":\"star trec\"}},\n",
    "  \"suggest\": { \"title_completion\": {\n",
    "    \"text\": \"star trec\",\n",
    "    \"phrase\": {\n",
    "      \"field\": \"suggestion\",\n",
    "      \"max_errors\": 2,\n",
    "      \"collate\": {\n",
    "        \"query\": { \n",
    "          \"match_phrase\": {\n",
    "            \"title\" : \"{{suggestion}}\"\n",
    "          }\n",
    "        }}}}}}\n",
    "        \n",
    "es.search(index=\"tmdb\",body=query_body,size=2)"
   ]
  },
  {
   "cell_type": "code",
   "execution_count": 11,
   "metadata": {},
   "outputs": [
    {
     "data": {
      "text/plain": [
       "{u'_shards': {u'failed': 0, u'successful': 5, u'total': 5},\n",
       " u'hits': {u'hits': [{u'_id': u'13475',\n",
       "    u'_index': u'tmdb',\n",
       "    u'_score': 0.83896446,\n",
       "    u'_type': u'movie',\n",
       "    u'fields': {u'title': [u'Star Trek']}},\n",
       "   {u'_id': u'222935',\n",
       "    u'_index': u'tmdb',\n",
       "    u'_score': 0.68552226,\n",
       "    u'_type': u'movie',\n",
       "    u'fields': {u'title': [u'The Fault in Our Stars']}}],\n",
       "  u'max_score': 0.83896446,\n",
       "  u'total': 9},\n",
       " u'suggest': {u'title_completion': [{u'length': 9,\n",
       "    u'offset': 0,\n",
       "    u'options': [{u'score': 0.015584747, u'text': u'star trek'}],\n",
       "    u'text': u'star trec'}]},\n",
       " u'timed_out': False,\n",
       " u'took': 35}"
      ]
     },
     "execution_count": 11,
     "metadata": {},
     "output_type": "execute_result"
    }
   ],
   "source": [
    "# Works in Elasticsearch 2.1\n",
    "query_body = { \n",
    "  \"fields\": [\"title\"],\n",
    "  \"query\": {\n",
    "    \"match\": {\"title\":\"star trec\"}},\n",
    "  \"suggest\": { \"title_completion\": {\n",
    "    \"text\": \"star trec\",\n",
    "    \"phrase\": {\n",
    "      \"field\": \"suggestion\",\n",
    "      \"max_errors\": 2,\n",
    "      \"collate\": {\n",
    "        \"query\": { \n",
    "          \"inline\" : {\n",
    "            \"match_phrase\": {\n",
    "              \"title\" : \"{{suggestion}}\"\n",
    "}}}}}}}}\n",
    "\n",
    "es.search(index=\"tmdb\",body=query_body,size=2)"
   ]
  }
 ],
 "metadata": {
  "kernelspec": {
   "display_name": "Python 2",
   "language": "python",
   "name": "python2"
  },
  "language_info": {
   "codemirror_mode": {
    "name": "ipython",
    "version": 2
   },
   "file_extension": ".py",
   "mimetype": "text/x-python",
   "name": "python",
   "nbconvert_exporter": "python",
   "pygments_lexer": "ipython2",
   "version": "2.7.18"
  }
 },
 "nbformat": 4,
 "nbformat_minor": 1
}
